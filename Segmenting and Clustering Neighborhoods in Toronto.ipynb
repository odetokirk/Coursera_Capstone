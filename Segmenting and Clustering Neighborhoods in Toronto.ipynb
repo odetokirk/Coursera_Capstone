{
    "nbformat_minor": 1, 
    "cells": [
        {
            "source": "## Scraping Toronto neighborhood data from Wikipedia\n", 
            "cell_type": "markdown", 
            "metadata": {
                "collapsed": true
            }
        }, 
        {
            "execution_count": 1, 
            "cell_type": "code", 
            "metadata": {}, 
            "outputs": [], 
            "source": "# Importing libraries\nimport requests\nimport pandas as pd\nimport random\nimport numpy as np\nfrom bs4 import BeautifulSoup"
        }, 
        {
            "execution_count": 2, 
            "cell_type": "code", 
            "metadata": {}, 
            "outputs": [], 
            "source": "# Assign the link to a variable \nwiki_url = requests.get('https://en.wikipedia.org/wiki/List_of_postal_codes_of_Canada:_M').text"
        }, 
        {
            "execution_count": 11, 
            "cell_type": "code", 
            "metadata": {}, 
            "outputs": [], 
            "source": "# Import BeautifulSoup\nsoup = BeautifulSoup(wiki_url, 'xml')\n# Prettify() function in BeautifulSoup will enable us to view how the tags are nested in the document.\n#print(soup.prettify())\n"
        }, 
        {
            "execution_count": 4, 
            "cell_type": "code", 
            "metadata": {}, 
            "outputs": [], 
            "source": "# extracting the raw table inside that webpage\ntable = soup.find('table')\n\nPostcode      = []\nBorough       = []\nNeighbourhood = []\n\n# print(table)\n\n# extracting the table data from wikipedia\nfor tr_cell in table.find_all('tr'):\n    \n    counter = 1\n    Postcode_var      = -1\n    Borough_var       = -1\n    Neighbourhood_var = -1\n    \n    for td_cell in tr_cell.find_all('td'):\n        if counter == 1: \n            Postcode_var = td_cell.text\n        if counter == 2: \n            Borough_var = td_cell.text\n            tag_a_Borough = td_cell.find('a')\n            \n        if counter == 3: \n            Neighbourhood_var = str(td_cell.text).strip()\n            tag_a_Neighbourhood = td_cell.find('a')\n            \n        counter +=1\n        \n        if (Postcode_var == 'Not assigned' or Borough_var == 'Not assigned' or Neighbourhood_var == 'Not assigned'):\n            \n            continue\n            \n           \n    try:\n        if ((tag_a_Borough is None) or (tag_a_Neighbourhood is None)):\n            \n            continue\n            \n            \n    except:\n        \n        pass\n    \n    if(Postcode_var == -1 or Borough_var == -1 or Neighbourhood_var == -1):\n        \n        continue\n        \n        \n        \n        \n        \n        \n    Postcode.append(Postcode_var)\n    Borough.append(Borough_var)\n    Neighbourhood.append(Neighbourhood_var)"
        }, 
        {
            "execution_count": 6, 
            "cell_type": "code", 
            "metadata": {}, 
            "outputs": [
                {
                    "output_type": "stream", 
                    "name": "stdout", 
                    "text": "number of unique Postal codes: 77\n"
                }
            ], 
            "source": "unique_p = set(Postcode)\nprint('number of unique Postal codes:', len(unique_p))\nPostcode_u      = []\nBorough_u       = []\nNeighbourhood_u = []\n\n\nfor postcode_unique_element in unique_p:\n    p_var = ''; b_var = ''; n_var = ''; \n    for postcode_idx, postcode_element in enumerate(Postcode):\n        if postcode_unique_element == postcode_element:\n            p_var = postcode_element;\n            b_var = Borough[postcode_idx]\n            if n_var == '': \n                n_var = Neighbourhood[postcode_idx]\n            else:\n                n_var = n_var + ', ' + Neighbourhood[postcode_idx]\n    Postcode_u.append(p_var)\n    Borough_u.append(b_var)\n    Neighbourhood_u.append(n_var)"
        }, 
        {
            "execution_count": 8, 
            "cell_type": "code", 
            "metadata": {}, 
            "outputs": [
                {
                    "execution_count": 8, 
                    "metadata": {}, 
                    "data": {
                        "text/html": "<div>\n<style scoped>\n    .dataframe tbody tr th:only-of-type {\n        vertical-align: middle;\n    }\n\n    .dataframe tbody tr th {\n        vertical-align: top;\n    }\n\n    .dataframe thead th {\n        text-align: right;\n    }\n</style>\n<table border=\"1\" class=\"dataframe\">\n  <thead>\n    <tr style=\"text-align: right;\">\n      <th></th>\n      <th>Borough</th>\n      <th>Neighbourhood</th>\n      <th>Postcode</th>\n    </tr>\n  </thead>\n  <tbody>\n    <tr>\n      <th>0</th>\n      <td>Etobicoke</td>\n      <td>Beaumond Heights, Jamestown, Mount Olive, Silv...</td>\n      <td>M9V</td>\n    </tr>\n    <tr>\n      <th>1</th>\n      <td>Downtown Toronto</td>\n      <td>University of Toronto</td>\n      <td>M5S</td>\n    </tr>\n    <tr>\n      <th>2</th>\n      <td>North York</td>\n      <td>Bayview Village</td>\n      <td>M2K</td>\n    </tr>\n    <tr>\n      <th>3</th>\n      <td>East Toronto</td>\n      <td>The Beaches</td>\n      <td>M4E</td>\n    </tr>\n    <tr>\n      <th>4</th>\n      <td>Scarborough</td>\n      <td>Agincourt</td>\n      <td>M1S</td>\n    </tr>\n    <tr>\n      <th>5</th>\n      <td>Downtown Toronto</td>\n      <td>St. James Town</td>\n      <td>M5C</td>\n    </tr>\n    <tr>\n      <th>6</th>\n      <td>North York</td>\n      <td>Flemingdon Park</td>\n      <td>M3C</td>\n    </tr>\n    <tr>\n      <th>7</th>\n      <td>Downtown Toronto</td>\n      <td>Rosedale</td>\n      <td>M4W</td>\n    </tr>\n    <tr>\n      <th>8</th>\n      <td>Scarborough</td>\n      <td>Morningside, West Hill</td>\n      <td>M1E</td>\n    </tr>\n    <tr>\n      <th>9</th>\n      <td>West Toronto</td>\n      <td>Little Portugal, Trinity</td>\n      <td>M6J</td>\n    </tr>\n    <tr>\n      <th>10</th>\n      <td>East Toronto</td>\n      <td>Riverdale</td>\n      <td>M4K</td>\n    </tr>\n    <tr>\n      <th>11</th>\n      <td>Scarborough</td>\n      <td>Birch Cliff</td>\n      <td>M1N</td>\n    </tr>\n    <tr>\n      <th>12</th>\n      <td>North York</td>\n      <td>York Mills</td>\n      <td>M2L</td>\n    </tr>\n    <tr>\n      <th>13</th>\n      <td>North York</td>\n      <td>Henry Farm</td>\n      <td>M2J</td>\n    </tr>\n    <tr>\n      <th>14</th>\n      <td>Downtown Toronto</td>\n      <td>Church and Wellesley</td>\n      <td>M4Y</td>\n    </tr>\n    <tr>\n      <th>15</th>\n      <td>Etobicoke</td>\n      <td>Alderwood, Long Branch</td>\n      <td>M8W</td>\n    </tr>\n    <tr>\n      <th>16</th>\n      <td>Etobicoke</td>\n      <td>Humber Bay, Mimico NE, Old Mill South, The Que...</td>\n      <td>M8Y</td>\n    </tr>\n    <tr>\n      <th>17</th>\n      <td>North York</td>\n      <td>Emery, Humberlea</td>\n      <td>M9M</td>\n    </tr>\n    <tr>\n      <th>18</th>\n      <td>Scarborough</td>\n      <td>Ionview, Kennedy Park</td>\n      <td>M1K</td>\n    </tr>\n    <tr>\n      <th>19</th>\n      <td>North York</td>\n      <td>CFB Toronto</td>\n      <td>M3K</td>\n    </tr>\n    <tr>\n      <th>20</th>\n      <td>Central Toronto</td>\n      <td>The Annex, Yorkville</td>\n      <td>M5R</td>\n    </tr>\n    <tr>\n      <th>21</th>\n      <td>East York</td>\n      <td>Leaside</td>\n      <td>M4G</td>\n    </tr>\n    <tr>\n      <th>22</th>\n      <td>North York</td>\n      <td>Downsview West</td>\n      <td>M3L</td>\n    </tr>\n    <tr>\n      <th>23</th>\n      <td>York</td>\n      <td>Weston</td>\n      <td>M9N</td>\n    </tr>\n    <tr>\n      <th>24</th>\n      <td>Central Toronto</td>\n      <td>Moore Park</td>\n      <td>M4T</td>\n    </tr>\n    <tr>\n      <th>25</th>\n      <td>Etobicoke</td>\n      <td>Mimico NW, The Queensway West</td>\n      <td>M8Z</td>\n    </tr>\n    <tr>\n      <th>26</th>\n      <td>North York</td>\n      <td>Hillcrest Village</td>\n      <td>M2H</td>\n    </tr>\n    <tr>\n      <th>27</th>\n      <td>Scarborough</td>\n      <td>Clairlea, Golden Mile, Oakridge</td>\n      <td>M1L</td>\n    </tr>\n    <tr>\n      <th>28</th>\n      <td>Scarborough</td>\n      <td>Tam O'Shanter</td>\n      <td>M1T</td>\n    </tr>\n    <tr>\n      <th>29</th>\n      <td>Etobicoke</td>\n      <td>Islington, Princess Gardens, West Deane Park</td>\n      <td>M9B</td>\n    </tr>\n    <tr>\n      <th>...</th>\n      <td>...</td>\n      <td>...</td>\n      <td>...</td>\n    </tr>\n    <tr>\n      <th>47</th>\n      <td>Scarborough</td>\n      <td>Woburn</td>\n      <td>M1G</td>\n    </tr>\n    <tr>\n      <th>48</th>\n      <td>Downtown Toronto</td>\n      <td>CN Tower, King and Spadina, Railway Lands, Sou...</td>\n      <td>M5V</td>\n    </tr>\n    <tr>\n      <th>49</th>\n      <td>Central Toronto</td>\n      <td>Lawrence Park</td>\n      <td>M4N</td>\n    </tr>\n    <tr>\n      <th>50</th>\n      <td>West Toronto</td>\n      <td>Parkdale, Roncesvalles</td>\n      <td>M6R</td>\n    </tr>\n    <tr>\n      <th>51</th>\n      <td>Etobicoke</td>\n      <td>Markland Wood</td>\n      <td>M9C</td>\n    </tr>\n    <tr>\n      <th>52</th>\n      <td>North York</td>\n      <td>Humber Summit</td>\n      <td>M9L</td>\n    </tr>\n    <tr>\n      <th>53</th>\n      <td>Scarborough</td>\n      <td>Agincourt North, Milliken</td>\n      <td>M1V</td>\n    </tr>\n    <tr>\n      <th>54</th>\n      <td>North York</td>\n      <td>Newtonbrook, Willowdale</td>\n      <td>M2M</td>\n    </tr>\n    <tr>\n      <th>55</th>\n      <td>Downtown Toronto</td>\n      <td>Design Exchange, Toronto Dominion Centre</td>\n      <td>M5K</td>\n    </tr>\n    <tr>\n      <th>56</th>\n      <td>East York</td>\n      <td>East Toronto</td>\n      <td>M4J</td>\n    </tr>\n    <tr>\n      <th>57</th>\n      <td>Etobicoke</td>\n      <td>New Toronto</td>\n      <td>M8V</td>\n    </tr>\n    <tr>\n      <th>58</th>\n      <td>Scarborough</td>\n      <td>Rouge, Malvern</td>\n      <td>M1B</td>\n    </tr>\n    <tr>\n      <th>59</th>\n      <td>West Toronto</td>\n      <td>Exhibition Place, Parkdale Village</td>\n      <td>M6K</td>\n    </tr>\n    <tr>\n      <th>60</th>\n      <td>North York</td>\n      <td>Bathurst Manor, Wilson Heights</td>\n      <td>M3H</td>\n    </tr>\n    <tr>\n      <th>61</th>\n      <td>York</td>\n      <td>Keelesdale, Mount Dennis, Silverthorn</td>\n      <td>M6M</td>\n    </tr>\n    <tr>\n      <th>62</th>\n      <td>Etobicoke</td>\n      <td>The Kingsway</td>\n      <td>M8X</td>\n    </tr>\n    <tr>\n      <th>63</th>\n      <td>West Toronto</td>\n      <td>High Park</td>\n      <td>M6P</td>\n    </tr>\n    <tr>\n      <th>64</th>\n      <td>North York</td>\n      <td>Lawrence Heights, Lawrence Manor</td>\n      <td>M6A</td>\n    </tr>\n    <tr>\n      <th>65</th>\n      <td>North York</td>\n      <td>Parkwoods</td>\n      <td>M3A</td>\n    </tr>\n    <tr>\n      <th>66</th>\n      <td>East York</td>\n      <td>Woodbine Heights</td>\n      <td>M4C</td>\n    </tr>\n    <tr>\n      <th>67</th>\n      <td>Scarborough</td>\n      <td>Cliffcrest, Cliffside</td>\n      <td>M1M</td>\n    </tr>\n    <tr>\n      <th>68</th>\n      <td>Central Toronto</td>\n      <td>Forest Hill North</td>\n      <td>M5P</td>\n    </tr>\n    <tr>\n      <th>69</th>\n      <td>North York</td>\n      <td>Willowdale West</td>\n      <td>M2R</td>\n    </tr>\n    <tr>\n      <th>70</th>\n      <td>East Toronto</td>\n      <td>India Bazaar</td>\n      <td>M4L</td>\n    </tr>\n    <tr>\n      <th>71</th>\n      <td>Downtown Toronto</td>\n      <td>First Canadian Place, Underground city</td>\n      <td>M5X</td>\n    </tr>\n    <tr>\n      <th>72</th>\n      <td>Downtown Toronto</td>\n      <td>Toronto Islands, Union Station</td>\n      <td>M5J</td>\n    </tr>\n    <tr>\n      <th>73</th>\n      <td>East York</td>\n      <td>Woodbine Gardens, Parkview Hill</td>\n      <td>M4B</td>\n    </tr>\n    <tr>\n      <th>74</th>\n      <td>Scarborough</td>\n      <td>Upper Rouge</td>\n      <td>M1X</td>\n    </tr>\n    <tr>\n      <th>75</th>\n      <td>North York</td>\n      <td>Downsview</td>\n      <td>M6L</td>\n    </tr>\n    <tr>\n      <th>76</th>\n      <td>North York</td>\n      <td>Victoria Village</td>\n      <td>M4A</td>\n    </tr>\n  </tbody>\n</table>\n<p>77 rows \u00d7 3 columns</p>\n</div>", 
                        "text/plain": "             Borough                                      Neighbourhood  \\\n0          Etobicoke  Beaumond Heights, Jamestown, Mount Olive, Silv...   \n1   Downtown Toronto                              University of Toronto   \n2         North York                                    Bayview Village   \n3       East Toronto                                        The Beaches   \n4        Scarborough                                          Agincourt   \n5   Downtown Toronto                                     St. James Town   \n6         North York                                    Flemingdon Park   \n7   Downtown Toronto                                           Rosedale   \n8        Scarborough                             Morningside, West Hill   \n9       West Toronto                           Little Portugal, Trinity   \n10      East Toronto                                          Riverdale   \n11       Scarborough                                        Birch Cliff   \n12        North York                                         York Mills   \n13        North York                                         Henry Farm   \n14  Downtown Toronto                               Church and Wellesley   \n15         Etobicoke                             Alderwood, Long Branch   \n16         Etobicoke  Humber Bay, Mimico NE, Old Mill South, The Que...   \n17        North York                                   Emery, Humberlea   \n18       Scarborough                              Ionview, Kennedy Park   \n19        North York                                        CFB Toronto   \n20   Central Toronto                               The Annex, Yorkville   \n21         East York                                            Leaside   \n22        North York                                     Downsview West   \n23              York                                             Weston   \n24   Central Toronto                                         Moore Park   \n25         Etobicoke                      Mimico NW, The Queensway West   \n26        North York                                  Hillcrest Village   \n27       Scarborough                    Clairlea, Golden Mile, Oakridge   \n28       Scarborough                                      Tam O'Shanter   \n29         Etobicoke       Islington, Princess Gardens, West Deane Park   \n..               ...                                                ...   \n47       Scarborough                                             Woburn   \n48  Downtown Toronto  CN Tower, King and Spadina, Railway Lands, Sou...   \n49   Central Toronto                                      Lawrence Park   \n50      West Toronto                             Parkdale, Roncesvalles   \n51         Etobicoke                                      Markland Wood   \n52        North York                                      Humber Summit   \n53       Scarborough                          Agincourt North, Milliken   \n54        North York                            Newtonbrook, Willowdale   \n55  Downtown Toronto           Design Exchange, Toronto Dominion Centre   \n56         East York                                       East Toronto   \n57         Etobicoke                                        New Toronto   \n58       Scarborough                                     Rouge, Malvern   \n59      West Toronto                 Exhibition Place, Parkdale Village   \n60        North York                     Bathurst Manor, Wilson Heights   \n61              York              Keelesdale, Mount Dennis, Silverthorn   \n62         Etobicoke                                       The Kingsway   \n63      West Toronto                                          High Park   \n64        North York                   Lawrence Heights, Lawrence Manor   \n65        North York                                          Parkwoods   \n66         East York                                   Woodbine Heights   \n67       Scarborough                              Cliffcrest, Cliffside   \n68   Central Toronto                                  Forest Hill North   \n69        North York                                    Willowdale West   \n70      East Toronto                                       India Bazaar   \n71  Downtown Toronto             First Canadian Place, Underground city   \n72  Downtown Toronto                     Toronto Islands, Union Station   \n73         East York                    Woodbine Gardens, Parkview Hill   \n74       Scarborough                                        Upper Rouge   \n75        North York                                          Downsview   \n76        North York                                   Victoria Village   \n\n   Postcode  \n0       M9V  \n1       M5S  \n2       M2K  \n3       M4E  \n4       M1S  \n5       M5C  \n6       M3C  \n7       M4W  \n8       M1E  \n9       M6J  \n10      M4K  \n11      M1N  \n12      M2L  \n13      M2J  \n14      M4Y  \n15      M8W  \n16      M8Y  \n17      M9M  \n18      M1K  \n19      M3K  \n20      M5R  \n21      M4G  \n22      M3L  \n23      M9N  \n24      M4T  \n25      M8Z  \n26      M2H  \n27      M1L  \n28      M1T  \n29      M9B  \n..      ...  \n47      M1G  \n48      M5V  \n49      M4N  \n50      M6R  \n51      M9C  \n52      M9L  \n53      M1V  \n54      M2M  \n55      M5K  \n56      M4J  \n57      M8V  \n58      M1B  \n59      M6K  \n60      M3H  \n61      M6M  \n62      M8X  \n63      M6P  \n64      M6A  \n65      M3A  \n66      M4C  \n67      M1M  \n68      M5P  \n69      M2R  \n70      M4L  \n71      M5X  \n72      M5J  \n73      M4B  \n74      M1X  \n75      M6L  \n76      M4A  \n\n[77 rows x 3 columns]"
                    }, 
                    "output_type": "execute_result"
                }
            ], 
            "source": "toronto_dict = {'Postcode':Postcode_u, 'Borough':Borough_u, 'Neighbourhood':Neighbourhood_u}\ndf_toronto = pd.DataFrame.from_dict(toronto_dict)\ndf_toronto.to_csv('toronto_part1.csv')\ndf_toronto\n"
        }, 
        {
            "execution_count": 10, 
            "cell_type": "code", 
            "metadata": {}, 
            "outputs": [
                {
                    "execution_count": 10, 
                    "metadata": {}, 
                    "data": {
                        "text/plain": "(77, 3)"
                    }, 
                    "output_type": "execute_result"
                }
            ], 
            "source": "df_toronto.shape"
        }
    ], 
    "metadata": {
        "kernelspec": {
            "display_name": "Python 3.5", 
            "name": "python3", 
            "language": "python"
        }, 
        "language_info": {
            "mimetype": "text/x-python", 
            "nbconvert_exporter": "python", 
            "version": "3.5.5", 
            "name": "python", 
            "file_extension": ".py", 
            "pygments_lexer": "ipython3", 
            "codemirror_mode": {
                "version": 3, 
                "name": "ipython"
            }
        }
    }, 
    "nbformat": 4
}